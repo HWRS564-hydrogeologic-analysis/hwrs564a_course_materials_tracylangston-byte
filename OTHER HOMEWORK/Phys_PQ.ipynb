{
 "cells": [
  {
   "cell_type": "code",
   "execution_count": 24,
   "id": "e1297614",
   "metadata": {},
   "outputs": [],
   "source": [
    "import pandas as pd"
   ]
  },
  {
   "cell_type": "code",
   "execution_count": 25,
   "id": "4fb0892f",
   "metadata": {},
   "outputs": [
    {
     "data": {
      "text/html": [
       "<div>\n",
       "<style scoped>\n",
       "    .dataframe tbody tr th:only-of-type {\n",
       "        vertical-align: middle;\n",
       "    }\n",
       "\n",
       "    .dataframe tbody tr th {\n",
       "        vertical-align: top;\n",
       "    }\n",
       "\n",
       "    .dataframe thead th {\n",
       "        text-align: right;\n",
       "    }\n",
       "</style>\n",
       "<table border=\"1\" class=\"dataframe\">\n",
       "  <thead>\n",
       "    <tr style=\"text-align: right;\">\n",
       "      <th></th>\n",
       "      <th>P (mm/day)</th>\n",
       "      <th>Q (ft^3/sec)</th>\n",
       "    </tr>\n",
       "    <tr>\n",
       "      <th>Date</th>\n",
       "      <th></th>\n",
       "      <th></th>\n",
       "    </tr>\n",
       "  </thead>\n",
       "  <tbody>\n",
       "    <tr>\n",
       "      <th>1980-01-02</th>\n",
       "      <td>0.00</td>\n",
       "      <td>18</td>\n",
       "    </tr>\n",
       "    <tr>\n",
       "      <th>1980-01-03</th>\n",
       "      <td>0.00</td>\n",
       "      <td>17</td>\n",
       "    </tr>\n",
       "    <tr>\n",
       "      <th>1980-01-04</th>\n",
       "      <td>0.00</td>\n",
       "      <td>17</td>\n",
       "    </tr>\n",
       "    <tr>\n",
       "      <th>1980-01-05</th>\n",
       "      <td>0.00</td>\n",
       "      <td>18</td>\n",
       "    </tr>\n",
       "    <tr>\n",
       "      <th>1980-01-06</th>\n",
       "      <td>0.00</td>\n",
       "      <td>18</td>\n",
       "    </tr>\n",
       "    <tr>\n",
       "      <th>2014-12-27</th>\n",
       "      <td>0.00</td>\n",
       "      <td>16</td>\n",
       "    </tr>\n",
       "    <tr>\n",
       "      <th>2014-12-28</th>\n",
       "      <td>0.00</td>\n",
       "      <td>16</td>\n",
       "    </tr>\n",
       "    <tr>\n",
       "      <th>2014-12-29</th>\n",
       "      <td>0.00</td>\n",
       "      <td>16</td>\n",
       "    </tr>\n",
       "    <tr>\n",
       "      <th>2014-12-30</th>\n",
       "      <td>0.00</td>\n",
       "      <td>16</td>\n",
       "    </tr>\n",
       "    <tr>\n",
       "      <th>2014-12-31</th>\n",
       "      <td>2.81</td>\n",
       "      <td>17</td>\n",
       "    </tr>\n",
       "  </tbody>\n",
       "</table>\n",
       "</div>"
      ],
      "text/plain": [
       "            P (mm/day)  Q (ft^3/sec)\n",
       "Date                                \n",
       "1980-01-02        0.00            18\n",
       "1980-01-03        0.00            17\n",
       "1980-01-04        0.00            17\n",
       "1980-01-05        0.00            18\n",
       "1980-01-06        0.00            18\n",
       "2014-12-27        0.00            16\n",
       "2014-12-28        0.00            16\n",
       "2014-12-29        0.00            16\n",
       "2014-12-30        0.00            16\n",
       "2014-12-31        2.81            17"
      ]
     },
     "execution_count": 25,
     "metadata": {},
     "output_type": "execute_result"
    }
   ],
   "source": [
    "# 1. Read spreadsheet, parse dates, and set the Date column as index\n",
    "df = pd.read_excel('P & Q.xlsx', parse_dates=[\"Date\"])\n",
    "df = df.set_index(\"Date\").sort_index()\n",
    "\n",
    "pd.concat([df.head(5), df.tail(5)])"
   ]
  },
  {
   "cell_type": "code",
   "execution_count": 26,
   "id": "04164607",
   "metadata": {},
   "outputs": [],
   "source": [
    "# 2. Ensure daily frequency (fill in missing days if needed)\n",
    "df = df.resample(\"D\").mean()"
   ]
  },
  {
   "cell_type": "code",
   "execution_count": 27,
   "id": "f35c8da7",
   "metadata": {},
   "outputs": [],
   "source": [
    "# 3. Resample by water year (Oct1-Sep30), using mean for each year\n",
    "annual_stats = df.resample(\"YE-SEP\").agg({\n",
    "    \"P (mm/day)\": \"sum\",     # annual precip total (mm)\n",
    "    \"Q (ft^3/sec)\": \"mean\"     # annual mean streamflow (cfs)\n",
    "})\n",
    "\n",
    "# 4. Label by water year (Sep 30 year)\n",
    "annual_stats['water_year'] = annual_stats.index.year\n",
    "annual_stats = annual_stats.set_index('water_year')"
   ]
  },
  {
   "cell_type": "code",
   "execution_count": 28,
   "id": "df8e3691",
   "metadata": {},
   "outputs": [
    {
     "name": "stdout",
     "output_type": "stream",
     "text": [
      "            P (mm/day)  Q (ft^3/sec)\n",
      "water_year                          \n",
      "1980            782.63    176.479853\n",
      "1981            520.31     18.567123\n",
      "1982            869.25     97.712329\n",
      "1983           1025.07    131.997260\n",
      "1984            568.74     47.997268\n",
      "            P (mm/day)  Q (ft^3/sec)\n",
      "water_year                          \n",
      "2011            554.22     30.635616\n",
      "2012            577.99     19.084699\n",
      "2013            672.79     33.380822\n",
      "2014            561.08     25.991781\n",
      "2015             91.16     16.260870\n"
     ]
    }
   ],
   "source": [
    "print(annual_stats.head())\n",
    "print(annual_stats.tail())"
   ]
  },
  {
   "cell_type": "code",
   "execution_count": 29,
   "id": "9cc70c05",
   "metadata": {},
   "outputs": [],
   "source": [
    "# 5 set area of watershed\n",
    "area_m2 = 623920321\n",
    "\n",
    "# 6 convert streamflow from cfs to mm/day (precip already mm/day)\n",
    "# conversion factor from cfs to mm/day = 0.0283168 * 86400(seconds in a day) / area in m2 * 1000\n",
    "df['Q (mm/day)'] = df['Q (ft^3/sec)'] * 0.0283168 * 86400 / area_m2 * 1000\n",
    "\n",
    "# Optional sanity check\n",
    "# print(df[['P (mm/day)', 'Q (mm/day)']].head())"
   ]
  },
  {
   "cell_type": "code",
   "execution_count": 30,
   "id": "b2ac396d",
   "metadata": {},
   "outputs": [
    {
     "name": "stdout",
     "output_type": "stream",
     "text": [
      "            P (mm/day)  Q (mm/day)\n",
      "Date                              \n",
      "1980-01-02         0.0    0.070583\n",
      "1980-01-03         0.0    0.066662\n",
      "1980-01-04         0.0    0.066662\n",
      "1980-01-05         0.0    0.070583\n",
      "1980-01-06         0.0    0.070583\n"
     ]
    }
   ],
   "source": [
    "print(df[['P (mm/day)', 'Q (mm/day)']].head())"
   ]
  },
  {
   "cell_type": "code",
   "execution_count": 35,
   "id": "427b12df",
   "metadata": {},
   "outputs": [
    {
     "name": "stdout",
     "output_type": "stream",
     "text": [
      "            P (mm/day)  Q (mm/day)\n",
      "water_year                        \n",
      "1980          2.866777    0.692028\n",
      "1981          1.425507    0.072807\n",
      "1982          2.381507    0.383158\n",
      "1983          2.808411    0.517599\n",
      "1984          1.553934    0.188211\n"
     ]
    }
   ],
   "source": [
    "# 4. Water-year MEANS (Oct 1 → Sep 30)\n",
    "annual_means = df.resample(\"YE-SEP\").mean()[[\"P (mm/day)\", \"Q (mm/day)\"]]\n",
    "\n",
    "# 5. Label rows by the water year (end year, i.e. Sep 30)\n",
    "annual_means[\"water_year\"] = annual_means.index.year\n",
    "annual_means = annual_means.set_index(\"water_year\")\n",
    "\n",
    "print(annual_means.head())"
   ]
  },
  {
   "cell_type": "code",
   "execution_count": 44,
   "id": "3978a7f1",
   "metadata": {},
   "outputs": [
    {
     "data": {
      "image/png": "[encoded data removed]",
      "text/plain": [
       "<Figure size 1000x500 with 1 Axes>"
      ]
     },
     "metadata": {},
     "output_type": "display_data"
    }
   ],
   "source": [
    "import matplotlib.pyplot as plt\n",
    "\n",
    "fig, ax = plt.subplots(figsize=(10,5))\n",
    "\n",
    "ax.step(annual_means.index, annual_means['P (mm/day)'],\n",
    "        where='mid', label='Precipitation',color='blue')\n",
    "ax.step(annual_means.index, annual_means['Q (mm/day)'],\n",
    "        where='mid', label='streamflow', color='red')\n",
    "\n",
    "#add total mean for both vars\n",
    "\n",
    "mean_P = annual_means['P (mm/day)'].mean()\n",
    "mean_Q = annual_means['Q (mm/day)'].mean()\n",
    "\n",
    "ax.axhline(mean_P, color='blue', linestyle='--', linewidth=1,\n",
    "           label=f'Mean Precip ({mean_P:.2f} mm/day)')\n",
    "ax.axhline(mean_Q, color='red', linestyle='--', linewidth=1,\n",
    "           label=f'Mean Streamflow ({mean_Q:.2f} mm/day)')\n",
    "\n",
    "ax.set_xlabel('Water Year')\n",
    "ax.set_ylabel('mm/day')\n",
    "ax.set_title(\"Cottonwood, AZ: Annual Precipitation and Streamflow, 1981-2014\")\n",
    "\n",
    "ax.legend()\n",
    "\n",
    "plt.tight_layout()\n",
    "plt.show()\n"
   ]
  },
  {
   "cell_type": "code",
   "execution_count": null,
   "id": "39860041",
   "metadata": {},
   "outputs": [
    {
     "data": {
      "text/plain": [
       "<Figure size 640x480 with 0 Axes>"
      ]
     },
     "metadata": {},
     "output_type": "display_data"
    }
   ],
   "source": []
  },
  {
   "cell_type": "code",
   "execution_count": null,
   "id": "5027e3fc",
   "metadata": {},
   "outputs": [],
   "source": []
  }
 ],
 "metadata": {
  "kernelspec": {
   "display_name": "hwrs564a",
   "language": "python",
   "name": "hwrs564a"
  },
  "language_info": {
   "codemirror_mode": {
    "name": "ipython",
    "version": 3
   },
   "file_extension": ".py",
   "mimetype": "text/x-python",
   "name": "python",
   "nbconvert_exporter": "python",
   "pygments_lexer": "ipython3",
   "version": "3.11.13"
  }
 },
 "nbformat": 4,
 "nbformat_minor": 5
}

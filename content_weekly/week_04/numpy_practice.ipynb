{
 "cells": [
  {
   "cell_type": "code",
   "execution_count": 1,
   "id": "65a758a5",
   "metadata": {},
   "outputs": [],
   "source": [
    "import time\n",
    "import math\n",
    "import numpy as np\n",
    "\n"
   ]
  },
  {
   "cell_type": "code",
   "execution_count": null,
   "id": "c3f80149",
   "metadata": {},
   "outputs": [],
   "source": [
    "def air_pressure_at_height(h):\n",
    "    p0 = 101325      # reference pressure in pascals\n",
    "    M = 0.02896968   # molar mass of air kg/mol\n",
    "    g = 9.81         # gravity m/s2\n",
    "    R0 = 8.314462618 # gas constant J/(mol·K) \n",
    "    T = 273          # temp in kelvin\n",
    "\n",
    "    ratio = -(g * h * M) / (R0 * T)\n",
    "    # NOTE: here I changed math.exp -> np.exp, \n",
    "    #       you will see why in a minute\n",
    "    p_h = p0 * np.exp(ratio)\n",
    "    return p_h"
   ]
  }
 ],
 "metadata": {
  "kernelspec": {
   "display_name": "hwrs564a",
   "language": "python",
   "name": "hwrs564a"
  },
  "language_info": {
   "codemirror_mode": {
    "name": "ipython",
    "version": 3
   },
   "file_extension": ".py",
   "mimetype": "text/x-python",
   "name": "python",
   "nbconvert_exporter": "python",
   "pygments_lexer": "ipython3",
   "version": "3.11.13"
  }
 },
 "nbformat": 4,
 "nbformat_minor": 5
}

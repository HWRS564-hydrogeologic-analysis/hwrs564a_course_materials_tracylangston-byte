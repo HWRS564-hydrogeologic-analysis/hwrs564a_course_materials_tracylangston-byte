{
 "cells": [
  {
   "cell_type": "code",
   "execution_count": null,
   "id": "b91eb055",
   "metadata": {},
   "outputs": [],
   "source": [
    "test "
   ]
  }
 ],
 "metadata": {
  "kernelspec": {
   "display_name": "hwrs564a",
   "language": "python",
   "name": "hwrs564a"
  },
  "language_info": {
   "name": "python",
   "version": "3.11.13"
  }
 },
 "nbformat": 4,
 "nbformat_minor": 5
}

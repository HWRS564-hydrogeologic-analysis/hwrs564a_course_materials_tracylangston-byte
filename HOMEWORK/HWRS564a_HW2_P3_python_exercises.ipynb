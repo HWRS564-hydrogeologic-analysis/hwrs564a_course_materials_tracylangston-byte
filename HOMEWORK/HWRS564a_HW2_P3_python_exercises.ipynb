{
 "cells": [
  {
   "attachments": {},
   "cell_type": "markdown",
   "metadata": {},
   "source": [
    "# HW2 P3: Python Exercises\n",
    "\n",
    "This set of exercises works through some basic python functionality. Just a note that we have used some functions from a module called numpy to create the exercises, but nothing you write should need it although you can use it if you'd like. We'll be learning more about numpy in the next module."
   ]
  },
  {
   "cell_type": "code",
   "execution_count": null,
   "metadata": {},
   "outputs": [],
   "source": [
    "import numpy as np"
   ]
  },
  {
   "attachments": {},
   "cell_type": "markdown",
   "metadata": {},
   "source": [
    "#### 1.) Write code to translate a boolean value to a string. Specifically, if the `testval` is `True` then print \"Yes\" and if it is `False` then print \"No\"\n"
   ]
  },
  {
   "cell_type": "code",
   "execution_count": 3,
   "metadata": {},
   "outputs": [
    {
     "name": "stdout",
     "output_type": "stream",
     "text": [
      "False\n"
     ]
    }
   ],
   "source": [
    "#### 1.) Write code to translate a boolean value to a string. Specifically, if the `testval` is `True` then print \"Yes\" and if it is `False` then print \"No\"\n",
    "\n",
    "import numpy as np\n",
    "testval = bool(np.random.choice([0, 1]))\n",
    "print(testval)\n",
    "\n",
    "\n"
   ]
  },
  {
   "attachments": {},
   "cell_type": "markdown",
   "metadata": {},
   "source": [
    "\n",
    "#### 2.) You will be given a random integer, and your goal is to return the same value, but as a negative number. Notice, the number you are given may already be negative"
   ]
  },
  {
   "cell_type": "code",
   "execution_count": 5,
   "metadata": {},
   "outputs": [
    {
     "name": "stdout",
     "output_type": "stream",
     "text": [
      "46 -46\n"
     ]
    }
   ],
   "source": [
    "testval = np.random.randint(-100, 101) \n",
    "#generate random integer between and including -100 and 100\n",
    "negval = -abs(testval)  \n",
    "#take absolute value, then make it negative\n",
    "print(testval, negval)"
   ]
  },
  {
   "attachments": {},
   "cell_type": "markdown",
   "metadata": {},
   "source": [
    "#### 3.) Given a list of random integers, return them sorted from low to high. \n",
    "NOTE: I do not want you to write your own sorting algorithm, but want you to look up how to do this using the python standard library"
   ]
  },
  {
   "cell_type": "code",
   "execution_count": 7,
   "metadata": {},
   "outputs": [
    {
     "name": "stdout",
     "output_type": "stream",
     "text": [
      "[np.int64(-95), np.int64(-92), np.int64(-84), np.int64(-78), np.int64(-69), np.int64(-64), np.int64(-43), np.int64(62), np.int64(67), np.int64(69)]\n",
      "[-78 -43 -84 -64  67 -92 -69  62  69 -95] None\n"
     ]
    }
   ],
   "source": [
    "random_vals = np.random.randint(-100, 101, 10)\n",
    "sorted_vals = print(sorted(random_vals))\n",
    "print(random_vals,sorted_vals)\n"
   ]
  },
  {
   "attachments": {},
   "cell_type": "markdown",
   "metadata": {},
   "source": [
    "\n",
    "#### 4.) Given a list of US locations with the format: \"CityName, StateAbbrev\" filter out any that are not in Arizona (AZ).\n"
   ]
  },
  {
   "cell_type": "code",
   "execution_count": 1,
   "metadata": {},
   "outputs": [
    {
     "name": "stdout",
     "output_type": "stream",
     "text": [
      "['Tucson, AZ', 'Bisbee, AZ'] ['Tucson, AZ', 'Bisbee, AZ'] ['Tucson, AZ', 'Bisbee, AZ']\n"
     ]
    }
   ],
   "source": [
    "city_list = [\n",
    "    \"New York, NY\",\n",
    "    \"Chattanooga, TN\",\n",
    "    \"Hobart, MN\",\n",
    "    \"Tucson, AZ\",\n",
    "    \"Yachats, OR\",\n",
    "    \"Bisbee, AZ\",\n",
    "    \"Muskogee, OK\"\n",
    "]\n",
    "\n",
    "az_list = []\n",
    "az_list2 = []\n",
    "for city in city_list:\n",
    "    if \"AZ\" in city:\n",
    "        az_list.append(city)\n",
    "\n",
    "for place in city_list:\n",
    "    if place.endswith(\"AZ\"):\n",
    "        az_list2.append(place)\n",
    "#...\n",
    "az_list3 = [city for city in city_list if \"AZ\" in city]\n",
    "print(az_list, az_list2, az_list3)\n",
    "#Jessica was helping with this one and wanted to show me 3 ways to do it haha"
   ]
  },
  {
   "attachments": {},
   "cell_type": "markdown",
   "metadata": {},
   "source": [
    "#### 5.) Write a function that takes a list of numbers and returns the mean (average) of the list"
   ]
  },
  {
   "cell_type": "code",
   "execution_count": 8,
   "metadata": {},
   "outputs": [
    {
     "name": "stdout",
     "output_type": "stream",
     "text": [
      "5.5\n"
     ]
    }
   ],
   "source": [
    "#Write a function that takes a list of numbers and returns the mean of the list#\n",
    "testvals = [1,2,3,4,5,6,7,8,9,10]\n",
    "\n",
    "def average(testvals):\n",
    "    return sum(testvals)/len(testvals)\n",
    "    \n",
    "print(average(testvals))"
   ]
  },
  {
   "cell_type": "code",
   "execution_count": null,
   "metadata": {},
   "outputs": [],
   "source": []
  }
 ],
 "metadata": {
  "kernelspec": {
   "display_name": "hwrs564a",
   "language": "python",
   "name": "hwrs564a"
  },
  "language_info": {
   "codemirror_mode": {
    "name": "ipython",
    "version": 3
   },
   "file_extension": ".py",
   "mimetype": "text/x-python",
   "name": "python",
   "nbconvert_exporter": "python",
   "pygments_lexer": "ipython3",
   "version": "3.11.13"
  },
  "orig_nbformat": 4
 },
 "nbformat": 4,
 "nbformat_minor": 2
}
